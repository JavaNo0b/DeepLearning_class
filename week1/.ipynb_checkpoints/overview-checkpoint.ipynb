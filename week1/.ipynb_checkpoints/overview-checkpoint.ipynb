{
 "cells": [
  {
   "cell_type": "markdown",
   "id": "c7654397-ad3d-4388-946e-cb246823572d",
   "metadata": {},
   "source": [
    "## 머신러닝\n",
    "\n",
    "### 분류 (Classification):\n",
    "\n",
    "- 목적: 주어진 데이터를 특정 클래스에 할당하는 것.\n",
    "- 예시: 이메일 스팸 여부 분류, 이미지에서 객체인식.\n",
    "- 출력: 이산형(예: 0 또는 1, 스팸 또는 비스팸).\n",
    "\n",
    "### 회귀 (Regression):\n",
    "\n",
    "- 목적: 연속적인 값을 예측하는 것.\n",
    "- 예시: 주택 가격 예측, 주식 가격 예측\n",
    "- 출력: 연속형(예: 150000)값을 직접 출력."
   ]
  },
  {
   "cell_type": "markdown",
   "id": "94d5bb26-bc20-463d-920d-b56cfbe46c70",
   "metadata": {},
   "source": [
    "## 딥러닝\n",
    "\n",
    "### 분류 (Classification):\n",
    "\n",
    "- 목적: 머신러닝의 분류와 유사하지만, 복잡한 데이터(예: 이미지, 텍스트)에서 더 높은 정확도로 패턴을 인식.\n",
    "- 예시: CNN(합성곱 신경망)을 사용한 이미지 분류.\n",
    "- 출력: 이산형, 소프트맥스 함수를 통해 확률로 변환.\n",
    "\n",
    "### 회귀 (Regression):\n",
    "\n",
    "- 목적: 복잡한 관계를 모델링하여 연속적인 값을 예측.\n",
    "- 예시: RNN(순환 신경망)을 사용한 시계열 데이터 예측.\n",
    "- 출력: 연속형, 예측값을 직접 출력."
   ]
  },
  {
   "cell_type": "code",
   "execution_count": null,
   "id": "8896eb64-a090-44e9-a842-16942de9d916",
   "metadata": {},
   "outputs": [],
   "source": []
  }
 ],
 "metadata": {
  "kernelspec": {
   "display_name": "Python 3 (ipykernel)",
   "language": "python",
   "name": "python3"
  },
  "language_info": {
   "codemirror_mode": {
    "name": "ipython",
    "version": 3
   },
   "file_extension": ".py",
   "mimetype": "text/x-python",
   "name": "python",
   "nbconvert_exporter": "python",
   "pygments_lexer": "ipython3",
   "version": "3.12.4"
  }
 },
 "nbformat": 4,
 "nbformat_minor": 5
}
